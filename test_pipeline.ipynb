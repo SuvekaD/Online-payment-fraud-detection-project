{
 "cells": [
  {
   "cell_type": "code",
   "execution_count": 1,
   "id": "80bb0411",
   "metadata": {},
   "outputs": [],
   "source": [
    "import pandas as pd\n",
    "from sklearn.preprocessing import StandardScaler\n",
    "from sklearn.svm import SVC\n",
    "from joblib import load\n",
    "import joblib\n",
    "import pickle\n",
    "\n",
    "import warnings\n",
    "warnings.filterwarnings('ignore')"
   ]
  },
  {
   "cell_type": "code",
   "execution_count": 2,
   "id": "85655639",
   "metadata": {},
   "outputs": [],
   "source": [
    "def test_pipeline(x_test_path, model_path):\n",
    "    x_data = pd.read_csv(x_test_path)\n",
    "    loaded_scaler = load('scaling/scaler.pkl')\n",
    "    \n",
    "    x_data_normalized = loaded_scaler.transform(x_data)\n",
    "    \n",
    "    loaded_model = joblib.load(model_path)\n",
    "    y_pred = loaded_model.predict(x_data_normalized)\n",
    "    \n",
    "    y_pred_df = pd.DataFrame(y_pred, columns=['Predicted_Label'])\n",
    "    return y_pred_df\n",
    "y_pred_df = test_pipeline(\"Data/x_test.csv\", 'models/svc_model.pkl')"
   ]
  },
  {
   "cell_type": "code",
   "execution_count": 3,
   "id": "ee251912",
   "metadata": {},
   "outputs": [
    {
     "name": "stdout",
     "output_type": "stream",
     "text": [
      "        Predicted_Label\n",
      "0                     0\n",
      "1                     0\n",
      "2                     0\n",
      "3                     0\n",
      "4                     0\n",
      "...                 ...\n",
      "954388                0\n",
      "954389                0\n",
      "954390                0\n",
      "954391                0\n",
      "954392                0\n",
      "\n",
      "[954393 rows x 1 columns]\n"
     ]
    }
   ],
   "source": [
    "print(y_pred_df)"
   ]
  },
  {
   "cell_type": "code",
   "execution_count": null,
   "id": "1e99f36d",
   "metadata": {},
   "outputs": [],
   "source": []
  }
 ],
 "metadata": {
  "kernelspec": {
   "display_name": "Python 3 (ipykernel)",
   "language": "python",
   "name": "python3"
  },
  "language_info": {
   "codemirror_mode": {
    "name": "ipython",
    "version": 3
   },
   "file_extension": ".py",
   "mimetype": "text/x-python",
   "name": "python",
   "nbconvert_exporter": "python",
   "pygments_lexer": "ipython3",
   "version": "3.11.4"
  }
 },
 "nbformat": 4,
 "nbformat_minor": 5
}
