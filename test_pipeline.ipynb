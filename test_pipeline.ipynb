{
 "cells": [
  {
   "cell_type": "code",
   "execution_count": 13,
   "id": "f910ab35",
   "metadata": {},
   "outputs": [],
   "source": [
    "import pandas as pd\n",
    "from sklearn.preprocessing import StandardScaler\n",
    "from sklearn.linear_model import LogisticRegression\n",
    "from joblib import load\n",
    "\n",
    "import pickle\n",
    "\n",
    "import warnings\n",
    "warnings.filterwarnings('ignore')"
   ]
  },
  {
   "cell_type": "code",
   "execution_count": 35,
   "id": "5cbc614b",
   "metadata": {},
   "outputs": [],
   "source": [
    "def test_pipeline(x_test_path, model_path):\n",
    "    x_data = pd.read_csv(x_test_path)\n",
    "    loaded_scaler = load('scaling/scaler.pkl')\n",
    "    \n",
    "    x_data_normalized = loaded_scaler.transform(x_data)\n",
    "    \n",
    "    loaded_model = joblib.load('models/logistic_regression_model.pkl')\n",
    "    y_pred = loaded_model.predict(x_data_normalized)\n",
    "    \n",
    "    y_pred_df = pd.DataFrame(y_pred, columns=['Predicted_Label'])\n",
    "    return y_pred_df\n",
    "y_pred_df = test_pipeline(\"data/test_data/x_test.csv\", 'models/logistic_regression_model.pkl')"
   ]
  },
  {
   "cell_type": "code",
   "execution_count": 36,
   "id": "484e0456",
   "metadata": {},
   "outputs": [
    {
     "name": "stdout",
     "output_type": "stream",
     "text": [
      "         Predicted_Label\n",
      "0                      0\n",
      "1                      0\n",
      "2                      0\n",
      "3                      0\n",
      "4                      0\n",
      "...                  ...\n",
      "1908781                0\n",
      "1908782                0\n",
      "1908783                0\n",
      "1908784                0\n",
      "1908785                0\n",
      "\n",
      "[1908786 rows x 1 columns]\n"
     ]
    }
   ],
   "source": [
    "print(y_pred_df)"
   ]
  }
 ],
 "metadata": {
  "kernelspec": {
   "display_name": "Python 3 (ipykernel)",
   "language": "python",
   "name": "python3"
  },
  "language_info": {
   "codemirror_mode": {
    "name": "ipython",
    "version": 3
   },
   "file_extension": ".py",
   "mimetype": "text/x-python",
   "name": "python",
   "nbconvert_exporter": "python",
   "pygments_lexer": "ipython3",
   "version": "3.11.4"
  }
 },
 "nbformat": 4,
 "nbformat_minor": 5
}
