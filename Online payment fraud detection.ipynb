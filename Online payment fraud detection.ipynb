{
 "cells": [
  {
   "cell_type": "markdown",
   "id": "11a2e3ce",
   "metadata": {},
   "source": [
    "# Introduction\n",
    "    \n",
    "   Online payment is the most popular transaction method in the world today. However, with an increase in online payments also comes a rise in payment fraud. The objective of this study is to identify fraudulent and non-fraudulent payments."
   ]
  },
  {
   "cell_type": "markdown",
   "id": "ca598cf1",
   "metadata": {},
   "source": [
    "## Importing libraries"
   ]
  },
  {
   "cell_type": "code",
   "execution_count": 6,
   "id": "70295aa9",
   "metadata": {},
   "outputs": [],
   "source": [
    "import numpy as np\n",
    "import pandas as pd\n",
    "\n",
    "import matplotlib.pyplot as plt\n",
    "import seaborn as sns\n",
    "%matplotlib inline\n",
    "\n",
    "from sklearn.model_selection import train_test_split\n",
    "from xgboost import XGBClassifier\n",
    "from sklearn.metrics import roc_auc_score as ras\n",
    "from sklearn.linear_model import LogisticRegression\n",
    "from sklearn.svm import SVC\n",
    "from sklearn.ensemble import RandomForestClassifier\n",
    "from sklearn.metrics import classification_report, accuracy_score, confusion_matrix\n",
    "import pickle\n",
    "from joblib import dump,load\n",
    "import os\n",
    "import warnings\n",
    "warnings.filterwarnings('ignore')"
   ]
  },
  {
   "cell_type": "markdown",
   "id": "e2335a39",
   "metadata": {},
   "source": [
    "# Exploratory Data Analysis"
   ]
  },
  {
   "cell_type": "code",
   "execution_count": 2,
   "id": "05ab2fe1",
   "metadata": {},
   "outputs": [],
   "source": [
    "df=pd.read_csv('Dataset/onlinefraud.csv')"
   ]
  },
  {
   "cell_type": "code",
   "execution_count": 12,
   "id": "7690c3c0",
   "metadata": {},
   "outputs": [
    {
     "data": {
      "text/html": [
       "<div>\n",
       "<style scoped>\n",
       "    .dataframe tbody tr th:only-of-type {\n",
       "        vertical-align: middle;\n",
       "    }\n",
       "\n",
       "    .dataframe tbody tr th {\n",
       "        vertical-align: top;\n",
       "    }\n",
       "\n",
       "    .dataframe thead th {\n",
       "        text-align: right;\n",
       "    }\n",
       "</style>\n",
       "<table border=\"1\" class=\"dataframe\">\n",
       "  <thead>\n",
       "    <tr style=\"text-align: right;\">\n",
       "      <th></th>\n",
       "      <th>step</th>\n",
       "      <th>type</th>\n",
       "      <th>amount</th>\n",
       "      <th>nameOrig</th>\n",
       "      <th>oldbalanceOrg</th>\n",
       "      <th>newbalanceOrig</th>\n",
       "      <th>nameDest</th>\n",
       "      <th>oldbalanceDest</th>\n",
       "      <th>newbalanceDest</th>\n",
       "      <th>isFraud</th>\n",
       "      <th>isFlaggedFraud</th>\n",
       "    </tr>\n",
       "  </thead>\n",
       "  <tbody>\n",
       "    <tr>\n",
       "      <th>0</th>\n",
       "      <td>1</td>\n",
       "      <td>PAYMENT</td>\n",
       "      <td>9839.64</td>\n",
       "      <td>C1231006815</td>\n",
       "      <td>170136.0</td>\n",
       "      <td>160296.36</td>\n",
       "      <td>M1979787155</td>\n",
       "      <td>0.0</td>\n",
       "      <td>0.0</td>\n",
       "      <td>0</td>\n",
       "      <td>0</td>\n",
       "    </tr>\n",
       "    <tr>\n",
       "      <th>1</th>\n",
       "      <td>1</td>\n",
       "      <td>PAYMENT</td>\n",
       "      <td>1864.28</td>\n",
       "      <td>C1666544295</td>\n",
       "      <td>21249.0</td>\n",
       "      <td>19384.72</td>\n",
       "      <td>M2044282225</td>\n",
       "      <td>0.0</td>\n",
       "      <td>0.0</td>\n",
       "      <td>0</td>\n",
       "      <td>0</td>\n",
       "    </tr>\n",
       "    <tr>\n",
       "      <th>2</th>\n",
       "      <td>1</td>\n",
       "      <td>TRANSFER</td>\n",
       "      <td>181.00</td>\n",
       "      <td>C1305486145</td>\n",
       "      <td>181.0</td>\n",
       "      <td>0.00</td>\n",
       "      <td>C553264065</td>\n",
       "      <td>0.0</td>\n",
       "      <td>0.0</td>\n",
       "      <td>1</td>\n",
       "      <td>0</td>\n",
       "    </tr>\n",
       "    <tr>\n",
       "      <th>3</th>\n",
       "      <td>1</td>\n",
       "      <td>CASH_OUT</td>\n",
       "      <td>181.00</td>\n",
       "      <td>C840083671</td>\n",
       "      <td>181.0</td>\n",
       "      <td>0.00</td>\n",
       "      <td>C38997010</td>\n",
       "      <td>21182.0</td>\n",
       "      <td>0.0</td>\n",
       "      <td>1</td>\n",
       "      <td>0</td>\n",
       "    </tr>\n",
       "    <tr>\n",
       "      <th>4</th>\n",
       "      <td>1</td>\n",
       "      <td>PAYMENT</td>\n",
       "      <td>11668.14</td>\n",
       "      <td>C2048537720</td>\n",
       "      <td>41554.0</td>\n",
       "      <td>29885.86</td>\n",
       "      <td>M1230701703</td>\n",
       "      <td>0.0</td>\n",
       "      <td>0.0</td>\n",
       "      <td>0</td>\n",
       "      <td>0</td>\n",
       "    </tr>\n",
       "  </tbody>\n",
       "</table>\n",
       "</div>"
      ],
      "text/plain": [
       "   step      type    amount     nameOrig  oldbalanceOrg  newbalanceOrig  \\\n",
       "0     1   PAYMENT   9839.64  C1231006815       170136.0       160296.36   \n",
       "1     1   PAYMENT   1864.28  C1666544295        21249.0        19384.72   \n",
       "2     1  TRANSFER    181.00  C1305486145          181.0            0.00   \n",
       "3     1  CASH_OUT    181.00   C840083671          181.0            0.00   \n",
       "4     1   PAYMENT  11668.14  C2048537720        41554.0        29885.86   \n",
       "\n",
       "      nameDest  oldbalanceDest  newbalanceDest  isFraud  isFlaggedFraud  \n",
       "0  M1979787155             0.0             0.0        0               0  \n",
       "1  M2044282225             0.0             0.0        0               0  \n",
       "2   C553264065             0.0             0.0        1               0  \n",
       "3    C38997010         21182.0             0.0        1               0  \n",
       "4  M1230701703             0.0             0.0        0               0  "
      ]
     },
     "execution_count": 12,
     "metadata": {},
     "output_type": "execute_result"
    }
   ],
   "source": [
    "df.head()"
   ]
  },
  {
   "cell_type": "code",
   "execution_count": 13,
   "id": "f1cc02e5",
   "metadata": {},
   "outputs": [
    {
     "data": {
      "text/html": [
       "<div>\n",
       "<style scoped>\n",
       "    .dataframe tbody tr th:only-of-type {\n",
       "        vertical-align: middle;\n",
       "    }\n",
       "\n",
       "    .dataframe tbody tr th {\n",
       "        vertical-align: top;\n",
       "    }\n",
       "\n",
       "    .dataframe thead th {\n",
       "        text-align: right;\n",
       "    }\n",
       "</style>\n",
       "<table border=\"1\" class=\"dataframe\">\n",
       "  <thead>\n",
       "    <tr style=\"text-align: right;\">\n",
       "      <th></th>\n",
       "      <th>step</th>\n",
       "      <th>type</th>\n",
       "      <th>amount</th>\n",
       "      <th>nameOrig</th>\n",
       "      <th>oldbalanceOrg</th>\n",
       "      <th>newbalanceOrig</th>\n",
       "      <th>nameDest</th>\n",
       "      <th>oldbalanceDest</th>\n",
       "      <th>newbalanceDest</th>\n",
       "      <th>isFraud</th>\n",
       "      <th>isFlaggedFraud</th>\n",
       "    </tr>\n",
       "  </thead>\n",
       "  <tbody>\n",
       "    <tr>\n",
       "      <th>4631162</th>\n",
       "      <td>329</td>\n",
       "      <td>CASH_IN</td>\n",
       "      <td>71846.94</td>\n",
       "      <td>C1437782961</td>\n",
       "      <td>10252983.66</td>\n",
       "      <td>10324830.60</td>\n",
       "      <td>C1491439677</td>\n",
       "      <td>187450.67</td>\n",
       "      <td>115603.73</td>\n",
       "      <td>0</td>\n",
       "      <td>0</td>\n",
       "    </tr>\n",
       "    <tr>\n",
       "      <th>3545975</th>\n",
       "      <td>260</td>\n",
       "      <td>PAYMENT</td>\n",
       "      <td>5402.40</td>\n",
       "      <td>C57831511</td>\n",
       "      <td>0.00</td>\n",
       "      <td>0.00</td>\n",
       "      <td>M1538611557</td>\n",
       "      <td>0.00</td>\n",
       "      <td>0.00</td>\n",
       "      <td>0</td>\n",
       "      <td>0</td>\n",
       "    </tr>\n",
       "    <tr>\n",
       "      <th>2153757</th>\n",
       "      <td>184</td>\n",
       "      <td>CASH_OUT</td>\n",
       "      <td>133158.14</td>\n",
       "      <td>C600437537</td>\n",
       "      <td>0.00</td>\n",
       "      <td>0.00</td>\n",
       "      <td>C2037389094</td>\n",
       "      <td>751578.78</td>\n",
       "      <td>884736.92</td>\n",
       "      <td>0</td>\n",
       "      <td>0</td>\n",
       "    </tr>\n",
       "    <tr>\n",
       "      <th>2338067</th>\n",
       "      <td>189</td>\n",
       "      <td>CASH_IN</td>\n",
       "      <td>136505.01</td>\n",
       "      <td>C1452622752</td>\n",
       "      <td>7223.00</td>\n",
       "      <td>143728.01</td>\n",
       "      <td>C140725940</td>\n",
       "      <td>1953826.08</td>\n",
       "      <td>1817321.07</td>\n",
       "      <td>0</td>\n",
       "      <td>0</td>\n",
       "    </tr>\n",
       "    <tr>\n",
       "      <th>4199339</th>\n",
       "      <td>305</td>\n",
       "      <td>CASH_OUT</td>\n",
       "      <td>122170.23</td>\n",
       "      <td>C1422678517</td>\n",
       "      <td>0.00</td>\n",
       "      <td>0.00</td>\n",
       "      <td>C1449372072</td>\n",
       "      <td>549817.90</td>\n",
       "      <td>671988.13</td>\n",
       "      <td>0</td>\n",
       "      <td>0</td>\n",
       "    </tr>\n",
       "    <tr>\n",
       "      <th>5102600</th>\n",
       "      <td>355</td>\n",
       "      <td>CASH_OUT</td>\n",
       "      <td>158911.98</td>\n",
       "      <td>C1167664215</td>\n",
       "      <td>0.00</td>\n",
       "      <td>0.00</td>\n",
       "      <td>C1744617229</td>\n",
       "      <td>2712209.95</td>\n",
       "      <td>2871121.92</td>\n",
       "      <td>0</td>\n",
       "      <td>0</td>\n",
       "    </tr>\n",
       "    <tr>\n",
       "      <th>296939</th>\n",
       "      <td>15</td>\n",
       "      <td>CASH_OUT</td>\n",
       "      <td>23035.88</td>\n",
       "      <td>C536073414</td>\n",
       "      <td>24659.00</td>\n",
       "      <td>1623.12</td>\n",
       "      <td>C2007648376</td>\n",
       "      <td>992409.65</td>\n",
       "      <td>930943.08</td>\n",
       "      <td>0</td>\n",
       "      <td>0</td>\n",
       "    </tr>\n",
       "    <tr>\n",
       "      <th>1455730</th>\n",
       "      <td>140</td>\n",
       "      <td>CASH_OUT</td>\n",
       "      <td>11502.48</td>\n",
       "      <td>C1396791883</td>\n",
       "      <td>51930.00</td>\n",
       "      <td>40427.52</td>\n",
       "      <td>C608655851</td>\n",
       "      <td>139942.67</td>\n",
       "      <td>151445.16</td>\n",
       "      <td>0</td>\n",
       "      <td>0</td>\n",
       "    </tr>\n",
       "    <tr>\n",
       "      <th>439167</th>\n",
       "      <td>18</td>\n",
       "      <td>PAYMENT</td>\n",
       "      <td>6482.44</td>\n",
       "      <td>C1206096012</td>\n",
       "      <td>10030.00</td>\n",
       "      <td>3547.56</td>\n",
       "      <td>M596888581</td>\n",
       "      <td>0.00</td>\n",
       "      <td>0.00</td>\n",
       "      <td>0</td>\n",
       "      <td>0</td>\n",
       "    </tr>\n",
       "    <tr>\n",
       "      <th>4808795</th>\n",
       "      <td>346</td>\n",
       "      <td>PAYMENT</td>\n",
       "      <td>24878.62</td>\n",
       "      <td>C845852602</td>\n",
       "      <td>0.00</td>\n",
       "      <td>0.00</td>\n",
       "      <td>M340026247</td>\n",
       "      <td>0.00</td>\n",
       "      <td>0.00</td>\n",
       "      <td>0</td>\n",
       "      <td>0</td>\n",
       "    </tr>\n",
       "  </tbody>\n",
       "</table>\n",
       "</div>"
      ],
      "text/plain": [
       "         step      type     amount     nameOrig  oldbalanceOrg  \\\n",
       "4631162   329   CASH_IN   71846.94  C1437782961    10252983.66   \n",
       "3545975   260   PAYMENT    5402.40    C57831511           0.00   \n",
       "2153757   184  CASH_OUT  133158.14   C600437537           0.00   \n",
       "2338067   189   CASH_IN  136505.01  C1452622752        7223.00   \n",
       "4199339   305  CASH_OUT  122170.23  C1422678517           0.00   \n",
       "5102600   355  CASH_OUT  158911.98  C1167664215           0.00   \n",
       "296939     15  CASH_OUT   23035.88   C536073414       24659.00   \n",
       "1455730   140  CASH_OUT   11502.48  C1396791883       51930.00   \n",
       "439167     18   PAYMENT    6482.44  C1206096012       10030.00   \n",
       "4808795   346   PAYMENT   24878.62   C845852602           0.00   \n",
       "\n",
       "         newbalanceOrig     nameDest  oldbalanceDest  newbalanceDest  isFraud  \\\n",
       "4631162     10324830.60  C1491439677       187450.67       115603.73        0   \n",
       "3545975            0.00  M1538611557            0.00            0.00        0   \n",
       "2153757            0.00  C2037389094       751578.78       884736.92        0   \n",
       "2338067       143728.01   C140725940      1953826.08      1817321.07        0   \n",
       "4199339            0.00  C1449372072       549817.90       671988.13        0   \n",
       "5102600            0.00  C1744617229      2712209.95      2871121.92        0   \n",
       "296939          1623.12  C2007648376       992409.65       930943.08        0   \n",
       "1455730        40427.52   C608655851       139942.67       151445.16        0   \n",
       "439167          3547.56   M596888581            0.00            0.00        0   \n",
       "4808795            0.00   M340026247            0.00            0.00        0   \n",
       "\n",
       "         isFlaggedFraud  \n",
       "4631162               0  \n",
       "3545975               0  \n",
       "2153757               0  \n",
       "2338067               0  \n",
       "4199339               0  \n",
       "5102600               0  \n",
       "296939                0  \n",
       "1455730               0  \n",
       "439167                0  \n",
       "4808795               0  "
      ]
     },
     "execution_count": 13,
     "metadata": {},
     "output_type": "execute_result"
    }
   ],
   "source": [
    "df.sample(10)"
   ]
  },
  {
   "cell_type": "code",
   "execution_count": 14,
   "id": "4f1beb4b",
   "metadata": {},
   "outputs": [
    {
     "data": {
      "text/plain": [
       "(6362620, 11)"
      ]
     },
     "execution_count": 14,
     "metadata": {},
     "output_type": "execute_result"
    }
   ],
   "source": [
    "df.shape"
   ]
  },
  {
   "cell_type": "code",
   "execution_count": 15,
   "id": "17ab8ad3",
   "metadata": {},
   "outputs": [
    {
     "name": "stdout",
     "output_type": "stream",
     "text": [
      "<class 'pandas.core.frame.DataFrame'>\n",
      "RangeIndex: 6362620 entries, 0 to 6362619\n",
      "Data columns (total 11 columns):\n",
      " #   Column          Dtype  \n",
      "---  ------          -----  \n",
      " 0   step            int64  \n",
      " 1   type            object \n",
      " 2   amount          float64\n",
      " 3   nameOrig        object \n",
      " 4   oldbalanceOrg   float64\n",
      " 5   newbalanceOrig  float64\n",
      " 6   nameDest        object \n",
      " 7   oldbalanceDest  float64\n",
      " 8   newbalanceDest  float64\n",
      " 9   isFraud         int64  \n",
      " 10  isFlaggedFraud  int64  \n",
      "dtypes: float64(5), int64(3), object(3)\n",
      "memory usage: 534.0+ MB\n"
     ]
    }
   ],
   "source": [
    "df.info()"
   ]
  },
  {
   "cell_type": "code",
   "execution_count": 16,
   "id": "237b9039",
   "metadata": {},
   "outputs": [
    {
     "data": {
      "text/html": [
       "<div>\n",
       "<style scoped>\n",
       "    .dataframe tbody tr th:only-of-type {\n",
       "        vertical-align: middle;\n",
       "    }\n",
       "\n",
       "    .dataframe tbody tr th {\n",
       "        vertical-align: top;\n",
       "    }\n",
       "\n",
       "    .dataframe thead th {\n",
       "        text-align: right;\n",
       "    }\n",
       "</style>\n",
       "<table border=\"1\" class=\"dataframe\">\n",
       "  <thead>\n",
       "    <tr style=\"text-align: right;\">\n",
       "      <th></th>\n",
       "      <th>step</th>\n",
       "      <th>amount</th>\n",
       "      <th>oldbalanceOrg</th>\n",
       "      <th>newbalanceOrig</th>\n",
       "      <th>oldbalanceDest</th>\n",
       "      <th>newbalanceDest</th>\n",
       "      <th>isFraud</th>\n",
       "      <th>isFlaggedFraud</th>\n",
       "    </tr>\n",
       "  </thead>\n",
       "  <tbody>\n",
       "    <tr>\n",
       "      <th>count</th>\n",
       "      <td>6.362620e+06</td>\n",
       "      <td>6.362620e+06</td>\n",
       "      <td>6.362620e+06</td>\n",
       "      <td>6.362620e+06</td>\n",
       "      <td>6.362620e+06</td>\n",
       "      <td>6.362620e+06</td>\n",
       "      <td>6.362620e+06</td>\n",
       "      <td>6.362620e+06</td>\n",
       "    </tr>\n",
       "    <tr>\n",
       "      <th>mean</th>\n",
       "      <td>2.433972e+02</td>\n",
       "      <td>1.798619e+05</td>\n",
       "      <td>8.338831e+05</td>\n",
       "      <td>8.551137e+05</td>\n",
       "      <td>1.100702e+06</td>\n",
       "      <td>1.224996e+06</td>\n",
       "      <td>1.290820e-03</td>\n",
       "      <td>2.514687e-06</td>\n",
       "    </tr>\n",
       "    <tr>\n",
       "      <th>std</th>\n",
       "      <td>1.423320e+02</td>\n",
       "      <td>6.038582e+05</td>\n",
       "      <td>2.888243e+06</td>\n",
       "      <td>2.924049e+06</td>\n",
       "      <td>3.399180e+06</td>\n",
       "      <td>3.674129e+06</td>\n",
       "      <td>3.590480e-02</td>\n",
       "      <td>1.585775e-03</td>\n",
       "    </tr>\n",
       "    <tr>\n",
       "      <th>min</th>\n",
       "      <td>1.000000e+00</td>\n",
       "      <td>0.000000e+00</td>\n",
       "      <td>0.000000e+00</td>\n",
       "      <td>0.000000e+00</td>\n",
       "      <td>0.000000e+00</td>\n",
       "      <td>0.000000e+00</td>\n",
       "      <td>0.000000e+00</td>\n",
       "      <td>0.000000e+00</td>\n",
       "    </tr>\n",
       "    <tr>\n",
       "      <th>25%</th>\n",
       "      <td>1.560000e+02</td>\n",
       "      <td>1.338957e+04</td>\n",
       "      <td>0.000000e+00</td>\n",
       "      <td>0.000000e+00</td>\n",
       "      <td>0.000000e+00</td>\n",
       "      <td>0.000000e+00</td>\n",
       "      <td>0.000000e+00</td>\n",
       "      <td>0.000000e+00</td>\n",
       "    </tr>\n",
       "    <tr>\n",
       "      <th>50%</th>\n",
       "      <td>2.390000e+02</td>\n",
       "      <td>7.487194e+04</td>\n",
       "      <td>1.420800e+04</td>\n",
       "      <td>0.000000e+00</td>\n",
       "      <td>1.327057e+05</td>\n",
       "      <td>2.146614e+05</td>\n",
       "      <td>0.000000e+00</td>\n",
       "      <td>0.000000e+00</td>\n",
       "    </tr>\n",
       "    <tr>\n",
       "      <th>75%</th>\n",
       "      <td>3.350000e+02</td>\n",
       "      <td>2.087215e+05</td>\n",
       "      <td>1.073152e+05</td>\n",
       "      <td>1.442584e+05</td>\n",
       "      <td>9.430367e+05</td>\n",
       "      <td>1.111909e+06</td>\n",
       "      <td>0.000000e+00</td>\n",
       "      <td>0.000000e+00</td>\n",
       "    </tr>\n",
       "    <tr>\n",
       "      <th>max</th>\n",
       "      <td>7.430000e+02</td>\n",
       "      <td>9.244552e+07</td>\n",
       "      <td>5.958504e+07</td>\n",
       "      <td>4.958504e+07</td>\n",
       "      <td>3.560159e+08</td>\n",
       "      <td>3.561793e+08</td>\n",
       "      <td>1.000000e+00</td>\n",
       "      <td>1.000000e+00</td>\n",
       "    </tr>\n",
       "  </tbody>\n",
       "</table>\n",
       "</div>"
      ],
      "text/plain": [
       "               step        amount  oldbalanceOrg  newbalanceOrig  \\\n",
       "count  6.362620e+06  6.362620e+06   6.362620e+06    6.362620e+06   \n",
       "mean   2.433972e+02  1.798619e+05   8.338831e+05    8.551137e+05   \n",
       "std    1.423320e+02  6.038582e+05   2.888243e+06    2.924049e+06   \n",
       "min    1.000000e+00  0.000000e+00   0.000000e+00    0.000000e+00   \n",
       "25%    1.560000e+02  1.338957e+04   0.000000e+00    0.000000e+00   \n",
       "50%    2.390000e+02  7.487194e+04   1.420800e+04    0.000000e+00   \n",
       "75%    3.350000e+02  2.087215e+05   1.073152e+05    1.442584e+05   \n",
       "max    7.430000e+02  9.244552e+07   5.958504e+07    4.958504e+07   \n",
       "\n",
       "       oldbalanceDest  newbalanceDest       isFraud  isFlaggedFraud  \n",
       "count    6.362620e+06    6.362620e+06  6.362620e+06    6.362620e+06  \n",
       "mean     1.100702e+06    1.224996e+06  1.290820e-03    2.514687e-06  \n",
       "std      3.399180e+06    3.674129e+06  3.590480e-02    1.585775e-03  \n",
       "min      0.000000e+00    0.000000e+00  0.000000e+00    0.000000e+00  \n",
       "25%      0.000000e+00    0.000000e+00  0.000000e+00    0.000000e+00  \n",
       "50%      1.327057e+05    2.146614e+05  0.000000e+00    0.000000e+00  \n",
       "75%      9.430367e+05    1.111909e+06  0.000000e+00    0.000000e+00  \n",
       "max      3.560159e+08    3.561793e+08  1.000000e+00    1.000000e+00  "
      ]
     },
     "execution_count": 16,
     "metadata": {},
     "output_type": "execute_result"
    }
   ],
   "source": [
    "df.describe()"
   ]
  },
  {
   "cell_type": "markdown",
   "id": "9fd031c9",
   "metadata": {},
   "source": [
    "### Checking for missing values"
   ]
  },
  {
   "cell_type": "code",
   "execution_count": 17,
   "id": "b7609a40",
   "metadata": {},
   "outputs": [
    {
     "data": {
      "text/plain": [
       "step              0\n",
       "type              0\n",
       "amount            0\n",
       "nameOrig          0\n",
       "oldbalanceOrg     0\n",
       "newbalanceOrig    0\n",
       "nameDest          0\n",
       "oldbalanceDest    0\n",
       "newbalanceDest    0\n",
       "isFraud           0\n",
       "isFlaggedFraud    0\n",
       "dtype: int64"
      ]
     },
     "execution_count": 17,
     "metadata": {},
     "output_type": "execute_result"
    }
   ],
   "source": [
    "df.isnull().sum()"
   ]
  },
  {
   "cell_type": "markdown",
   "id": "8022d1b2",
   "metadata": {},
   "source": [
    "# Exploratory Analysis and Visualization"
   ]
  },
  {
   "cell_type": "code",
   "execution_count": 18,
   "id": "aeba0edd",
   "metadata": {},
   "outputs": [
    {
     "data": {
      "image/png": "[encoded data removed]",
      "text/plain": [
       "<Figure size 1200x600 with 1 Axes>"
      ]
     },
     "metadata": {},
     "output_type": "display_data"
    },
    {
     "data": {
      "image/png": "[encoded data removed]",
      "text/plain": [
       "<Figure size 1200x600 with 1 Axes>"
      ]
     },
     "metadata": {},
     "output_type": "display_data"
    },
    {
     "data": {
      "image/png": "[encoded data removed]",
      "text/plain": [
       "<Figure size 1200x600 with 1 Axes>"
      ]
     },
     "metadata": {},
     "output_type": "display_data"
    },
    {
     "data": {
      "image/png": "[encoded data removed]",
      "text/plain": [
       "<Figure size 1200x600 with 1 Axes>"
      ]
     },
     "metadata": {},
     "output_type": "display_data"
    },
    {
     "data": {
      "image/png": "[encoded data removed]",
      "text/plain": [
       "<Figure size 1200x600 with 1 Axes>"
      ]
     },
     "metadata": {},
     "output_type": "display_data"
    },
    {
     "data": {
      "image/png": "[encoded data removed]",
      "text/plain": [
       "<Figure size 1200x600 with 1 Axes>"
      ]
     },
     "metadata": {},
     "output_type": "display_data"
    }
   ],
   "source": [
    "feature=['step','amount','oldbalanceOrg','newbalanceOrig','oldbalanceDest','newbalanceDest']\n",
    "for i in feature:\n",
    "    plt.xlabel(i)\n",
    "    df[i].plot(kind='hist', bins=5, figsize=(12,6), facecolor='grey',edgecolor='black')\n",
    "    plt.show()"
   ]
  },
  {
   "cell_type": "code",
   "execution_count": 19,
   "id": "8f5f4748",
   "metadata": {},
   "outputs": [
    {
     "name": "stdout",
     "output_type": "stream",
     "text": [
      "Feature:  amount\n",
      "Skewness value:  0.8046460444556197\n",
      "\n",
      "\n",
      "Feature:  oldbalanceOrg\n",
      "Skewness value:  2.249361299814406\n",
      "\n",
      "\n",
      "Feature:  newbalanceOrig\n",
      "Skewness value:  2.2262847493216786\n",
      "\n",
      "\n",
      "Feature:  oldbalanceDest\n",
      "Skewness value:  1.4173123924260833\n",
      "\n",
      "\n",
      "Feature:  newbalanceDest\n",
      "Skewness value:  1.3593024983493058\n",
      "\n",
      "\n"
     ]
    }
   ],
   "source": [
    "feature=['amount','oldbalanceOrg','newbalanceOrig','oldbalanceDest','newbalanceDest']\n",
    "for i in feature:\n",
    "    lower = df[i].quantile(0.10)\n",
    "    upper = df[i].quantile(0.90)\n",
    "    df[i] = np.where(df[i] <lower, lower,df[i])\n",
    "    df[i] = np.where(df[i] >upper, upper,df[i])\n",
    "    print('Feature: ',i)\n",
    "    print('Skewness value: ',df[i].skew())\n",
    "    print('\\n')"
   ]
  },
  {
   "cell_type": "markdown",
   "id": "3c2d6c1f",
   "metadata": {},
   "source": [
    "### Looking into type column for type of transaction done"
   ]
  },
  {
   "cell_type": "markdown",
   "id": "1afa4ab9",
   "metadata": {},
   "source": [
    "df.type.unique()"
   ]
  },
  {
   "cell_type": "code",
   "execution_count": 20,
   "id": "48917026",
   "metadata": {},
   "outputs": [
    {
     "data": {
      "text/plain": [
       "type\n",
       "CASH_OUT    2237500\n",
       "PAYMENT     2151495\n",
       "CASH_IN     1399284\n",
       "TRANSFER     532909\n",
       "DEBIT         41432\n",
       "Name: count, dtype: int64"
      ]
     },
     "execution_count": 20,
     "metadata": {},
     "output_type": "execute_result"
    }
   ],
   "source": [
    "payment = df.type.value_counts()\n",
    "payment"
   ]
  },
  {
   "cell_type": "code",
   "execution_count": 21,
   "id": "080c7cbf",
   "metadata": {},
   "outputs": [
    {
     "data": {
      "text/plain": [
       "<Axes: ylabel='type'>"
      ]
     },
     "execution_count": 21,
     "metadata": {},
     "output_type": "execute_result"
    },
    {
     "data": {
      "image/png": "[encoded data removed]",
      "text/plain": [
       "<Figure size 640x480 with 1 Axes>"
      ]
     },
     "metadata": {},
     "output_type": "display_data"
    }
   ],
   "source": [
    "payment.plot(kind='barh')"
   ]
  },
  {
   "cell_type": "code",
   "execution_count": 22,
   "id": "321a770e",
   "metadata": {},
   "outputs": [
    {
     "data": {
      "text/plain": [
       "<Axes: xlabel='type', ylabel='count'>"
      ]
     },
     "execution_count": 22,
     "metadata": {},
     "output_type": "execute_result"
    },
    {
     "data": {
      "image/png": "[encoded data removed]",
      "text/plain": [
       "<Figure size 640x480 with 1 Axes>"
      ]
     },
     "metadata": {},
     "output_type": "display_data"
    }
   ],
   "source": [
    "sns.countplot(x='type', data=df)"
   ]
  },
  {
   "cell_type": "code",
   "execution_count": 23,
   "id": "c18f235d",
   "metadata": {},
   "outputs": [
    {
     "data": {
      "text/html": [
       "<div>\n",
       "<style scoped>\n",
       "    .dataframe tbody tr th:only-of-type {\n",
       "        vertical-align: middle;\n",
       "    }\n",
       "\n",
       "    .dataframe tbody tr th {\n",
       "        vertical-align: top;\n",
       "    }\n",
       "\n",
       "    .dataframe thead th {\n",
       "        text-align: right;\n",
       "    }\n",
       "</style>\n",
       "<table border=\"1\" class=\"dataframe\">\n",
       "  <thead>\n",
       "    <tr style=\"text-align: right;\">\n",
       "      <th>isFraud</th>\n",
       "      <th>0</th>\n",
       "      <th>1</th>\n",
       "    </tr>\n",
       "    <tr>\n",
       "      <th>type</th>\n",
       "      <th></th>\n",
       "      <th></th>\n",
       "    </tr>\n",
       "  </thead>\n",
       "  <tbody>\n",
       "    <tr>\n",
       "      <th>CASH_IN</th>\n",
       "      <td>1399284</td>\n",
       "      <td>0</td>\n",
       "    </tr>\n",
       "    <tr>\n",
       "      <th>CASH_OUT</th>\n",
       "      <td>2233384</td>\n",
       "      <td>4116</td>\n",
       "    </tr>\n",
       "    <tr>\n",
       "      <th>DEBIT</th>\n",
       "      <td>41432</td>\n",
       "      <td>0</td>\n",
       "    </tr>\n",
       "    <tr>\n",
       "      <th>PAYMENT</th>\n",
       "      <td>2151495</td>\n",
       "      <td>0</td>\n",
       "    </tr>\n",
       "    <tr>\n",
       "      <th>TRANSFER</th>\n",
       "      <td>528812</td>\n",
       "      <td>4097</td>\n",
       "    </tr>\n",
       "  </tbody>\n",
       "</table>\n",
       "</div>"
      ],
      "text/plain": [
       "isFraud         0     1\n",
       "type                   \n",
       "CASH_IN   1399284     0\n",
       "CASH_OUT  2233384  4116\n",
       "DEBIT       41432     0\n",
       "PAYMENT   2151495     0\n",
       "TRANSFER   528812  4097"
      ]
     },
     "execution_count": 23,
     "metadata": {},
     "output_type": "execute_result"
    }
   ],
   "source": [
    "CrosstabResult=pd.crosstab(index=df.type,columns=df.isFraud)\n",
    "CrosstabResult"
   ]
  },
  {
   "cell_type": "code",
   "execution_count": 24,
   "id": "023a65ca",
   "metadata": {},
   "outputs": [
    {
     "data": {
      "text/plain": [
       "<Axes: xlabel='type'>"
      ]
     },
     "execution_count": 24,
     "metadata": {},
     "output_type": "execute_result"
    },
    {
     "data": {
      "image/png": "[encoded data removed]",
      "text/plain": [
       "<Figure size 700x400 with 1 Axes>"
      ]
     },
     "metadata": {},
     "output_type": "display_data"
    }
   ],
   "source": [
    "CrosstabResult.plot.bar(figsize=(7,4), rot=0)"
   ]
  },
  {
   "cell_type": "markdown",
   "id": "d5ade91c",
   "metadata": {},
   "source": [
    "### percentage of frauds in cash_out type"
   ]
  },
  {
   "cell_type": "code",
   "execution_count": 25,
   "id": "6872cd82",
   "metadata": {},
   "outputs": [
    {
     "data": {
      "text/plain": [
       "0.18395530726256984"
      ]
     },
     "execution_count": 25,
     "metadata": {},
     "output_type": "execute_result"
    }
   ],
   "source": [
    "cashout=2233384+4116\n",
    "cashout_fraud= 4116/(cashout) * 100\n",
    "cashout_fraud"
   ]
  },
  {
   "cell_type": "markdown",
   "id": "09f17000",
   "metadata": {},
   "source": [
    "### Percentage of frauds in transfer type"
   ]
  },
  {
   "cell_type": "code",
   "execution_count": 26,
   "id": "5c1f8d55",
   "metadata": {},
   "outputs": [
    {
     "data": {
      "text/plain": [
       "0.7687991758442811"
      ]
     },
     "execution_count": 26,
     "metadata": {},
     "output_type": "execute_result"
    }
   ],
   "source": [
    "transfer= 528812+4097\n",
    "transfer_fraud = 4097/(transfer) * 100\n",
    "transfer_fraud"
   ]
  },
  {
   "cell_type": "markdown",
   "id": "c3144106",
   "metadata": {},
   "source": [
    "### looking into amount column"
   ]
  },
  {
   "cell_type": "code",
   "execution_count": 27,
   "id": "681933d3",
   "metadata": {},
   "outputs": [
    {
     "data": {
      "text/plain": [
       "0            9839.640\n",
       "1            4501.300\n",
       "2            4501.300\n",
       "3            4501.300\n",
       "4           11668.140\n",
       "              ...    \n",
       "6362615    339682.130\n",
       "6362616    365423.309\n",
       "6362617    365423.309\n",
       "6362618    365423.309\n",
       "6362619    365423.309\n",
       "Name: amount, Length: 6362620, dtype: float64"
      ]
     },
     "execution_count": 27,
     "metadata": {},
     "output_type": "execute_result"
    }
   ],
   "source": [
    "df.amount"
   ]
  },
  {
   "cell_type": "code",
   "execution_count": 28,
   "id": "0f84e71b",
   "metadata": {},
   "outputs": [
    {
     "name": "stdout",
     "output_type": "stream",
     "text": [
      "Minimum:  4501.3\n",
      "Maximum:  365423.30900000007\n"
     ]
    }
   ],
   "source": [
    "print('Minimum: ',df.amount.min())\n",
    "print('Maximum: ',df.amount.max())"
   ]
  },
  {
   "cell_type": "markdown",
   "id": "41a03032",
   "metadata": {},
   "source": [
    "### the relationship of amount column with isFraud column"
   ]
  },
  {
   "cell_type": "code",
   "execution_count": 29,
   "id": "c0dc9ca4",
   "metadata": {},
   "outputs": [
    {
     "data": {
      "text/plain": [
       "<Axes: title={'center': 'amount'}, xlabel='isFraud'>"
      ]
     },
     "execution_count": 29,
     "metadata": {},
     "output_type": "execute_result"
    },
    {
     "data": {
      "image/png": "[encoded data removed]",
      "text/plain": [
       "<Figure size 640x480 with 1 Axes>"
      ]
     },
     "metadata": {},
     "output_type": "display_data"
    }
   ],
   "source": [
    "df.boxplot(column='amount', by='isFraud')"
   ]
  },
  {
   "cell_type": "markdown",
   "id": "8c1736c3",
   "metadata": {},
   "source": [
    "Fraud amount transaction range is between 1.3-3.6 lakh"
   ]
  },
  {
   "cell_type": "markdown",
   "id": "d617928f",
   "metadata": {},
   "source": [
    "### Looking into isFraud column"
   ]
  },
  {
   "cell_type": "code",
   "execution_count": 30,
   "id": "b40b0fe9",
   "metadata": {},
   "outputs": [
    {
     "data": {
      "text/plain": [
       "0.12908204481801522"
      ]
     },
     "execution_count": 30,
     "metadata": {},
     "output_type": "execute_result"
    }
   ],
   "source": [
    "total_transactions = df.shape[0]\n",
    "\n",
    "fraud_transaction = df[df.isFraud==1].shape[0]\n",
    "\n",
    "fraud_percent= fraud_transaction/total_transactions * 100\n",
    "fraud_percent"
   ]
  },
  {
   "cell_type": "code",
   "execution_count": 31,
   "id": "2f089dfb",
   "metadata": {},
   "outputs": [
    {
     "name": "stdout",
     "output_type": "stream",
     "text": [
      "Total transactions:  6362620\n",
      "Total fraud transactions happened:  8213\n",
      "Total fraud transaction percent:  0.13\n"
     ]
    }
   ],
   "source": [
    "print('Total transactions: ',total_transactions)\n",
    "print('Total fraud transactions happened: ',fraud_transaction)\n",
    "print(\"Total fraud transaction percent: \",round(fraud_percent,2))"
   ]
  },
  {
   "cell_type": "code",
   "execution_count": 32,
   "id": "4c20ed70",
   "metadata": {},
   "outputs": [
    {
     "data": {
      "text/html": [
       "<div>\n",
       "<style scoped>\n",
       "    .dataframe tbody tr th:only-of-type {\n",
       "        vertical-align: middle;\n",
       "    }\n",
       "\n",
       "    .dataframe tbody tr th {\n",
       "        vertical-align: top;\n",
       "    }\n",
       "\n",
       "    .dataframe thead th {\n",
       "        text-align: right;\n",
       "    }\n",
       "</style>\n",
       "<table border=\"1\" class=\"dataframe\">\n",
       "  <thead>\n",
       "    <tr style=\"text-align: right;\">\n",
       "      <th></th>\n",
       "      <th>step</th>\n",
       "      <th>type</th>\n",
       "      <th>amount</th>\n",
       "      <th>nameOrig</th>\n",
       "      <th>oldbalanceOrg</th>\n",
       "      <th>newbalanceOrig</th>\n",
       "      <th>nameDest</th>\n",
       "      <th>oldbalanceDest</th>\n",
       "      <th>newbalanceDest</th>\n",
       "      <th>isFraud</th>\n",
       "      <th>isFlaggedFraud</th>\n",
       "    </tr>\n",
       "  </thead>\n",
       "  <tbody>\n",
       "    <tr>\n",
       "      <th>5188057</th>\n",
       "      <td>367</td>\n",
       "      <td>CASH_OUT</td>\n",
       "      <td>365423.309</td>\n",
       "      <td>C1210833971</td>\n",
       "      <td>435867.160</td>\n",
       "      <td>0.000</td>\n",
       "      <td>C363013236</td>\n",
       "      <td>186826.40</td>\n",
       "      <td>622693.550</td>\n",
       "      <td>1</td>\n",
       "      <td>0</td>\n",
       "    </tr>\n",
       "    <tr>\n",
       "      <th>5990227</th>\n",
       "      <td>416</td>\n",
       "      <td>CASH_OUT</td>\n",
       "      <td>365423.309</td>\n",
       "      <td>C2110305720</td>\n",
       "      <td>1822508.289</td>\n",
       "      <td>0.000</td>\n",
       "      <td>C225008798</td>\n",
       "      <td>523626.59</td>\n",
       "      <td>3194869.671</td>\n",
       "      <td>1</td>\n",
       "      <td>0</td>\n",
       "    </tr>\n",
       "    <tr>\n",
       "      <th>5990225</th>\n",
       "      <td>416</td>\n",
       "      <td>CASH_OUT</td>\n",
       "      <td>365423.309</td>\n",
       "      <td>C246726057</td>\n",
       "      <td>1822508.289</td>\n",
       "      <td>0.000</td>\n",
       "      <td>C1786144514</td>\n",
       "      <td>2423749.18</td>\n",
       "      <td>3194869.671</td>\n",
       "      <td>1</td>\n",
       "      <td>0</td>\n",
       "    </tr>\n",
       "    <tr>\n",
       "      <th>5990224</th>\n",
       "      <td>416</td>\n",
       "      <td>TRANSFER</td>\n",
       "      <td>365423.309</td>\n",
       "      <td>C298387535</td>\n",
       "      <td>1822508.289</td>\n",
       "      <td>1970344.793</td>\n",
       "      <td>C662194461</td>\n",
       "      <td>0.00</td>\n",
       "      <td>0.000</td>\n",
       "      <td>1</td>\n",
       "      <td>0</td>\n",
       "    </tr>\n",
       "    <tr>\n",
       "      <th>5988262</th>\n",
       "      <td>415</td>\n",
       "      <td>CASH_OUT</td>\n",
       "      <td>365423.309</td>\n",
       "      <td>C2137951962</td>\n",
       "      <td>1675153.280</td>\n",
       "      <td>0.000</td>\n",
       "      <td>C309573869</td>\n",
       "      <td>12832.26</td>\n",
       "      <td>1687985.530</td>\n",
       "      <td>1</td>\n",
       "      <td>0</td>\n",
       "    </tr>\n",
       "    <tr>\n",
       "      <th>...</th>\n",
       "      <td>...</td>\n",
       "      <td>...</td>\n",
       "      <td>...</td>\n",
       "      <td>...</td>\n",
       "      <td>...</td>\n",
       "      <td>...</td>\n",
       "      <td>...</td>\n",
       "      <td>...</td>\n",
       "      <td>...</td>\n",
       "      <td>...</td>\n",
       "      <td>...</td>\n",
       "    </tr>\n",
       "    <tr>\n",
       "      <th>6002113</th>\n",
       "      <td>428</td>\n",
       "      <td>CASH_OUT</td>\n",
       "      <td>4501.300</td>\n",
       "      <td>C1838531308</td>\n",
       "      <td>3037.670</td>\n",
       "      <td>0.000</td>\n",
       "      <td>C505532836</td>\n",
       "      <td>800854.71</td>\n",
       "      <td>803892.380</td>\n",
       "      <td>1</td>\n",
       "      <td>0</td>\n",
       "    </tr>\n",
       "    <tr>\n",
       "      <th>6002112</th>\n",
       "      <td>428</td>\n",
       "      <td>TRANSFER</td>\n",
       "      <td>4501.300</td>\n",
       "      <td>C1408814433</td>\n",
       "      <td>3037.670</td>\n",
       "      <td>0.000</td>\n",
       "      <td>C944070846</td>\n",
       "      <td>0.00</td>\n",
       "      <td>0.000</td>\n",
       "      <td>1</td>\n",
       "      <td>0</td>\n",
       "    </tr>\n",
       "    <tr>\n",
       "      <th>1796322</th>\n",
       "      <td>162</td>\n",
       "      <td>TRANSFER</td>\n",
       "      <td>4501.300</td>\n",
       "      <td>C1172437299</td>\n",
       "      <td>151.000</td>\n",
       "      <td>0.000</td>\n",
       "      <td>C315826176</td>\n",
       "      <td>0.00</td>\n",
       "      <td>0.000</td>\n",
       "      <td>1</td>\n",
       "      <td>0</td>\n",
       "    </tr>\n",
       "    <tr>\n",
       "      <th>1796323</th>\n",
       "      <td>162</td>\n",
       "      <td>CASH_OUT</td>\n",
       "      <td>4501.300</td>\n",
       "      <td>C790340353</td>\n",
       "      <td>151.000</td>\n",
       "      <td>0.000</td>\n",
       "      <td>C517676411</td>\n",
       "      <td>386163.34</td>\n",
       "      <td>386314.340</td>\n",
       "      <td>1</td>\n",
       "      <td>0</td>\n",
       "    </tr>\n",
       "    <tr>\n",
       "      <th>2</th>\n",
       "      <td>1</td>\n",
       "      <td>TRANSFER</td>\n",
       "      <td>4501.300</td>\n",
       "      <td>C1305486145</td>\n",
       "      <td>181.000</td>\n",
       "      <td>0.000</td>\n",
       "      <td>C553264065</td>\n",
       "      <td>0.00</td>\n",
       "      <td>0.000</td>\n",
       "      <td>1</td>\n",
       "      <td>0</td>\n",
       "    </tr>\n",
       "  </tbody>\n",
       "</table>\n",
       "<p>8213 rows × 11 columns</p>\n",
       "</div>"
      ],
      "text/plain": [
       "         step      type      amount     nameOrig  oldbalanceOrg  \\\n",
       "5188057   367  CASH_OUT  365423.309  C1210833971     435867.160   \n",
       "5990227   416  CASH_OUT  365423.309  C2110305720    1822508.289   \n",
       "5990225   416  CASH_OUT  365423.309   C246726057    1822508.289   \n",
       "5990224   416  TRANSFER  365423.309   C298387535    1822508.289   \n",
       "5988262   415  CASH_OUT  365423.309  C2137951962    1675153.280   \n",
       "...       ...       ...         ...          ...            ...   \n",
       "6002113   428  CASH_OUT    4501.300  C1838531308       3037.670   \n",
       "6002112   428  TRANSFER    4501.300  C1408814433       3037.670   \n",
       "1796322   162  TRANSFER    4501.300  C1172437299        151.000   \n",
       "1796323   162  CASH_OUT    4501.300   C790340353        151.000   \n",
       "2           1  TRANSFER    4501.300  C1305486145        181.000   \n",
       "\n",
       "         newbalanceOrig     nameDest  oldbalanceDest  newbalanceDest  isFraud  \\\n",
       "5188057           0.000   C363013236       186826.40      622693.550        1   \n",
       "5990227           0.000   C225008798       523626.59     3194869.671        1   \n",
       "5990225           0.000  C1786144514      2423749.18     3194869.671        1   \n",
       "5990224     1970344.793   C662194461            0.00           0.000        1   \n",
       "5988262           0.000   C309573869        12832.26     1687985.530        1   \n",
       "...                 ...          ...             ...             ...      ...   \n",
       "6002113           0.000   C505532836       800854.71      803892.380        1   \n",
       "6002112           0.000   C944070846            0.00           0.000        1   \n",
       "1796322           0.000   C315826176            0.00           0.000        1   \n",
       "1796323           0.000   C517676411       386163.34      386314.340        1   \n",
       "2                 0.000   C553264065            0.00           0.000        1   \n",
       "\n",
       "         isFlaggedFraud  \n",
       "5188057               0  \n",
       "5990227               0  \n",
       "5990225               0  \n",
       "5990224               0  \n",
       "5988262               0  \n",
       "...                 ...  \n",
       "6002113               0  \n",
       "6002112               0  \n",
       "1796322               0  \n",
       "1796323               0  \n",
       "2                     0  \n",
       "\n",
       "[8213 rows x 11 columns]"
      ]
     },
     "execution_count": 32,
     "metadata": {},
     "output_type": "execute_result"
    }
   ],
   "source": [
    "fraud_amount= df[df.isFraud==1]\n",
    "fraud_amount=fraud_amount.sort_values(by=['amount'],ascending=False)\n",
    "fraud_amount"
   ]
  },
  {
   "cell_type": "code",
   "execution_count": 33,
   "id": "d76ca962",
   "metadata": {},
   "outputs": [
    {
     "data": {
      "text/plain": [
       "isFraud\n",
       "0    6354407\n",
       "1       8213\n",
       "Name: count, dtype: int64"
      ]
     },
     "execution_count": 33,
     "metadata": {},
     "output_type": "execute_result"
    }
   ],
   "source": [
    "df['isFraud'].value_counts()"
   ]
  },
  {
   "cell_type": "code",
   "execution_count": 26,
   "id": "274fc956",
   "metadata": {},
   "outputs": [
    {
     "data": {
      "text/plain": [
       "<Axes: xlabel='step', ylabel='Density'>"
      ]
     },
     "execution_count": 26,
     "metadata": {},
     "output_type": "execute_result"
    },
    {
     "data": {
      "image/png": "[encoded data removed]",
      "text/plain": [
       "<Figure size 640x480 with 1 Axes>"
      ]
     },
     "metadata": {},
     "output_type": "display_data"
    }
   ],
   "source": [
    "sns.distplot(df['step'], bins=100)"
   ]
  },
  {
   "cell_type": "markdown",
   "id": "36141085",
   "metadata": {},
   "source": [
    "###### Correlation between features"
   ]
  },
  {
   "cell_type": "code",
   "execution_count": 34,
   "id": "0dd3e716",
   "metadata": {},
   "outputs": [],
   "source": [
    "numeric_df = df.select_dtypes(include=['number'])"
   ]
  },
  {
   "cell_type": "code",
   "execution_count": 35,
   "id": "b6c0ce0e",
   "metadata": {},
   "outputs": [
    {
     "data": {
      "text/plain": [
       "<Axes: >"
      ]
     },
     "execution_count": 35,
     "metadata": {},
     "output_type": "execute_result"
    },
    {
     "data": {
      "image/png": "[encoded data removed]",
      "text/plain": [
       "<Figure size 1200x600 with 2 Axes>"
      ]
     },
     "metadata": {},
     "output_type": "display_data"
    }
   ],
   "source": [
    "plt.figure(figsize=(12, 6))\n",
    "sns.heatmap(numeric_df.corr(), cmap='BrBG', fmt='.2f', linewidths=2, annot=True)"
   ]
  },
  {
   "cell_type": "markdown",
   "id": "78ae105e",
   "metadata": {},
   "source": [
    "### Performing one-hot encoding for column type"
   ]
  },
  {
   "cell_type": "code",
   "execution_count": 3,
   "id": "5ca45265",
   "metadata": {},
   "outputs": [],
   "source": [
    "type_new = pd.get_dummies(df['type'], drop_first=True)\n",
    "df_new = pd.concat([df, type_new], axis=1)\n"
   ]
  },
  {
   "cell_type": "code",
   "execution_count": 7,
   "id": "09ac9a23",
   "metadata": {},
   "outputs": [
    {
     "data": {
      "text/plain": [
       "['encoder/df_new.pkl']"
      ]
     },
     "execution_count": 7,
     "metadata": {},
     "output_type": "execute_result"
    }
   ],
   "source": [
    "output_directory = 'encoder/'\n",
    "os.makedirs(output_directory, exist_ok=True)\n",
    "encoder_filename = os.path.join(output_directory, 'df_new.pkl')\n",
    "dump(df_new,encoder_filename)"
   ]
  },
  {
   "cell_type": "code",
   "execution_count": 37,
   "id": "8a8ba586",
   "metadata": {},
   "outputs": [
    {
     "data": {
      "text/html": [
       "<div>\n",
       "<style scoped>\n",
       "    .dataframe tbody tr th:only-of-type {\n",
       "        vertical-align: middle;\n",
       "    }\n",
       "\n",
       "    .dataframe tbody tr th {\n",
       "        vertical-align: top;\n",
       "    }\n",
       "\n",
       "    .dataframe thead th {\n",
       "        text-align: right;\n",
       "    }\n",
       "</style>\n",
       "<table border=\"1\" class=\"dataframe\">\n",
       "  <thead>\n",
       "    <tr style=\"text-align: right;\">\n",
       "      <th></th>\n",
       "      <th>step</th>\n",
       "      <th>type</th>\n",
       "      <th>amount</th>\n",
       "      <th>nameOrig</th>\n",
       "      <th>oldbalanceOrg</th>\n",
       "      <th>newbalanceOrig</th>\n",
       "      <th>nameDest</th>\n",
       "      <th>oldbalanceDest</th>\n",
       "      <th>newbalanceDest</th>\n",
       "      <th>isFraud</th>\n",
       "      <th>isFlaggedFraud</th>\n",
       "      <th>CASH_OUT</th>\n",
       "      <th>DEBIT</th>\n",
       "      <th>PAYMENT</th>\n",
       "      <th>TRANSFER</th>\n",
       "    </tr>\n",
       "  </thead>\n",
       "  <tbody>\n",
       "    <tr>\n",
       "      <th>0</th>\n",
       "      <td>1</td>\n",
       "      <td>PAYMENT</td>\n",
       "      <td>9839.64</td>\n",
       "      <td>C1231006815</td>\n",
       "      <td>170136.0</td>\n",
       "      <td>160296.36</td>\n",
       "      <td>M1979787155</td>\n",
       "      <td>0.0</td>\n",
       "      <td>0.0</td>\n",
       "      <td>0</td>\n",
       "      <td>0</td>\n",
       "      <td>False</td>\n",
       "      <td>False</td>\n",
       "      <td>True</td>\n",
       "      <td>False</td>\n",
       "    </tr>\n",
       "    <tr>\n",
       "      <th>1</th>\n",
       "      <td>1</td>\n",
       "      <td>PAYMENT</td>\n",
       "      <td>4501.30</td>\n",
       "      <td>C1666544295</td>\n",
       "      <td>21249.0</td>\n",
       "      <td>19384.72</td>\n",
       "      <td>M2044282225</td>\n",
       "      <td>0.0</td>\n",
       "      <td>0.0</td>\n",
       "      <td>0</td>\n",
       "      <td>0</td>\n",
       "      <td>False</td>\n",
       "      <td>False</td>\n",
       "      <td>True</td>\n",
       "      <td>False</td>\n",
       "    </tr>\n",
       "    <tr>\n",
       "      <th>2</th>\n",
       "      <td>1</td>\n",
       "      <td>TRANSFER</td>\n",
       "      <td>4501.30</td>\n",
       "      <td>C1305486145</td>\n",
       "      <td>181.0</td>\n",
       "      <td>0.00</td>\n",
       "      <td>C553264065</td>\n",
       "      <td>0.0</td>\n",
       "      <td>0.0</td>\n",
       "      <td>1</td>\n",
       "      <td>0</td>\n",
       "      <td>False</td>\n",
       "      <td>False</td>\n",
       "      <td>False</td>\n",
       "      <td>True</td>\n",
       "    </tr>\n",
       "    <tr>\n",
       "      <th>3</th>\n",
       "      <td>1</td>\n",
       "      <td>CASH_OUT</td>\n",
       "      <td>4501.30</td>\n",
       "      <td>C840083671</td>\n",
       "      <td>181.0</td>\n",
       "      <td>0.00</td>\n",
       "      <td>C38997010</td>\n",
       "      <td>21182.0</td>\n",
       "      <td>0.0</td>\n",
       "      <td>1</td>\n",
       "      <td>0</td>\n",
       "      <td>True</td>\n",
       "      <td>False</td>\n",
       "      <td>False</td>\n",
       "      <td>False</td>\n",
       "    </tr>\n",
       "    <tr>\n",
       "      <th>4</th>\n",
       "      <td>1</td>\n",
       "      <td>PAYMENT</td>\n",
       "      <td>11668.14</td>\n",
       "      <td>C2048537720</td>\n",
       "      <td>41554.0</td>\n",
       "      <td>29885.86</td>\n",
       "      <td>M1230701703</td>\n",
       "      <td>0.0</td>\n",
       "      <td>0.0</td>\n",
       "      <td>0</td>\n",
       "      <td>0</td>\n",
       "      <td>False</td>\n",
       "      <td>False</td>\n",
       "      <td>True</td>\n",
       "      <td>False</td>\n",
       "    </tr>\n",
       "  </tbody>\n",
       "</table>\n",
       "</div>"
      ],
      "text/plain": [
       "   step      type    amount     nameOrig  oldbalanceOrg  newbalanceOrig  \\\n",
       "0     1   PAYMENT   9839.64  C1231006815       170136.0       160296.36   \n",
       "1     1   PAYMENT   4501.30  C1666544295        21249.0        19384.72   \n",
       "2     1  TRANSFER   4501.30  C1305486145          181.0            0.00   \n",
       "3     1  CASH_OUT   4501.30   C840083671          181.0            0.00   \n",
       "4     1   PAYMENT  11668.14  C2048537720        41554.0        29885.86   \n",
       "\n",
       "      nameDest  oldbalanceDest  newbalanceDest  isFraud  isFlaggedFraud  \\\n",
       "0  M1979787155             0.0             0.0        0               0   \n",
       "1  M2044282225             0.0             0.0        0               0   \n",
       "2   C553264065             0.0             0.0        1               0   \n",
       "3    C38997010         21182.0             0.0        1               0   \n",
       "4  M1230701703             0.0             0.0        0               0   \n",
       "\n",
       "   CASH_OUT  DEBIT  PAYMENT  TRANSFER  \n",
       "0     False  False     True     False  \n",
       "1     False  False     True     False  \n",
       "2     False  False    False      True  \n",
       "3      True  False    False     False  \n",
       "4     False  False     True     False  "
      ]
     },
     "execution_count": 37,
     "metadata": {},
     "output_type": "execute_result"
    }
   ],
   "source": [
    "df_new.head()"
   ]
  },
  {
   "cell_type": "markdown",
   "id": "d60a6fdf",
   "metadata": {},
   "source": [
    "### Dropping unnecessary columns"
   ]
  },
  {
   "cell_type": "code",
   "execution_count": 8,
   "id": "8b3e892f",
   "metadata": {},
   "outputs": [],
   "source": [
    "X = df_new.drop(['isFraud', 'type', 'nameOrig', 'nameDest'], axis=1)\n",
    "y = df_new['isFraud']"
   ]
  },
  {
   "cell_type": "code",
   "execution_count": 39,
   "id": "3f18da77",
   "metadata": {},
   "outputs": [
    {
     "data": {
      "text/html": [
       "<div>\n",
       "<style scoped>\n",
       "    .dataframe tbody tr th:only-of-type {\n",
       "        vertical-align: middle;\n",
       "    }\n",
       "\n",
       "    .dataframe tbody tr th {\n",
       "        vertical-align: top;\n",
       "    }\n",
       "\n",
       "    .dataframe thead th {\n",
       "        text-align: right;\n",
       "    }\n",
       "</style>\n",
       "<table border=\"1\" class=\"dataframe\">\n",
       "  <thead>\n",
       "    <tr style=\"text-align: right;\">\n",
       "      <th></th>\n",
       "      <th>step</th>\n",
       "      <th>amount</th>\n",
       "      <th>oldbalanceOrg</th>\n",
       "      <th>newbalanceOrig</th>\n",
       "      <th>oldbalanceDest</th>\n",
       "      <th>newbalanceDest</th>\n",
       "      <th>isFlaggedFraud</th>\n",
       "      <th>CASH_OUT</th>\n",
       "      <th>DEBIT</th>\n",
       "      <th>PAYMENT</th>\n",
       "      <th>TRANSFER</th>\n",
       "    </tr>\n",
       "  </thead>\n",
       "  <tbody>\n",
       "    <tr>\n",
       "      <th>0</th>\n",
       "      <td>1</td>\n",
       "      <td>9839.64</td>\n",
       "      <td>170136.0</td>\n",
       "      <td>160296.36</td>\n",
       "      <td>0.0</td>\n",
       "      <td>0.0</td>\n",
       "      <td>0</td>\n",
       "      <td>False</td>\n",
       "      <td>False</td>\n",
       "      <td>True</td>\n",
       "      <td>False</td>\n",
       "    </tr>\n",
       "    <tr>\n",
       "      <th>1</th>\n",
       "      <td>1</td>\n",
       "      <td>4501.30</td>\n",
       "      <td>21249.0</td>\n",
       "      <td>19384.72</td>\n",
       "      <td>0.0</td>\n",
       "      <td>0.0</td>\n",
       "      <td>0</td>\n",
       "      <td>False</td>\n",
       "      <td>False</td>\n",
       "      <td>True</td>\n",
       "      <td>False</td>\n",
       "    </tr>\n",
       "    <tr>\n",
       "      <th>2</th>\n",
       "      <td>1</td>\n",
       "      <td>4501.30</td>\n",
       "      <td>181.0</td>\n",
       "      <td>0.00</td>\n",
       "      <td>0.0</td>\n",
       "      <td>0.0</td>\n",
       "      <td>0</td>\n",
       "      <td>False</td>\n",
       "      <td>False</td>\n",
       "      <td>False</td>\n",
       "      <td>True</td>\n",
       "    </tr>\n",
       "    <tr>\n",
       "      <th>3</th>\n",
       "      <td>1</td>\n",
       "      <td>4501.30</td>\n",
       "      <td>181.0</td>\n",
       "      <td>0.00</td>\n",
       "      <td>21182.0</td>\n",
       "      <td>0.0</td>\n",
       "      <td>0</td>\n",
       "      <td>True</td>\n",
       "      <td>False</td>\n",
       "      <td>False</td>\n",
       "      <td>False</td>\n",
       "    </tr>\n",
       "    <tr>\n",
       "      <th>4</th>\n",
       "      <td>1</td>\n",
       "      <td>11668.14</td>\n",
       "      <td>41554.0</td>\n",
       "      <td>29885.86</td>\n",
       "      <td>0.0</td>\n",
       "      <td>0.0</td>\n",
       "      <td>0</td>\n",
       "      <td>False</td>\n",
       "      <td>False</td>\n",
       "      <td>True</td>\n",
       "      <td>False</td>\n",
       "    </tr>\n",
       "  </tbody>\n",
       "</table>\n",
       "</div>"
      ],
      "text/plain": [
       "   step    amount  oldbalanceOrg  newbalanceOrig  oldbalanceDest  \\\n",
       "0     1   9839.64       170136.0       160296.36             0.0   \n",
       "1     1   4501.30        21249.0        19384.72             0.0   \n",
       "2     1   4501.30          181.0            0.00             0.0   \n",
       "3     1   4501.30          181.0            0.00         21182.0   \n",
       "4     1  11668.14        41554.0        29885.86             0.0   \n",
       "\n",
       "   newbalanceDest  isFlaggedFraud  CASH_OUT  DEBIT  PAYMENT  TRANSFER  \n",
       "0             0.0               0     False  False     True     False  \n",
       "1             0.0               0     False  False     True     False  \n",
       "2             0.0               0     False  False    False      True  \n",
       "3             0.0               0      True  False    False     False  \n",
       "4             0.0               0     False  False     True     False  "
      ]
     },
     "execution_count": 39,
     "metadata": {},
     "output_type": "execute_result"
    }
   ],
   "source": [
    "X.head()"
   ]
  },
  {
   "cell_type": "code",
   "execution_count": 40,
   "id": "d27f14d2",
   "metadata": {},
   "outputs": [
    {
     "data": {
      "text/plain": [
       "((6362620, 11), (6362620,))"
      ]
     },
     "execution_count": 40,
     "metadata": {},
     "output_type": "execute_result"
    }
   ],
   "source": [
    "X.shape, y.shape"
   ]
  },
  {
   "cell_type": "markdown",
   "id": "93370554",
   "metadata": {},
   "source": [
    "### Spilting the data"
   ]
  },
  {
   "cell_type": "code",
   "execution_count": 10,
   "id": "507b52cc",
   "metadata": {},
   "outputs": [],
   "source": [
    "X_train, X_temp, y_train, y_temp = train_test_split(X, y, test_size=0.3, random_state=42)\n",
    "X_validation, X_test, y_validation, y_test = train_test_split(X_temp, y_temp, test_size=0.5, random_state=42)\n",
    "\n",
    "train_data = pd.concat([X_train, y_train], axis=1)\n",
    "test_data = pd.concat([X_test, y_test], axis=1)\n",
    "\n",
    "X_train.to_csv(\"data/X_train.csv\",index=False)\n",
    "X_test.to_csv(\"data/X_test.csv\",index=False)\n",
    "X_validation.to_csv(\"data/X_validation_test.csv\",index=False)\n",
    "y_train.to_csv(\"data/y_train.csv\",index=False)\n",
    "X_test.to_csv(\"data/X_train.csv\",index=False)\n",
    "y_validation.to_csv(\"data/y_validation_test.csv\",index=False)"
   ]
  },
  {
   "cell_type": "markdown",
   "id": "0758e13f",
   "metadata": {},
   "source": [
    "### Scaling"
   ]
  },
  {
   "cell_type": "code",
   "execution_count": 11,
   "id": "bfd7a149",
   "metadata": {},
   "outputs": [],
   "source": [
    "from sklearn.preprocessing import StandardScaler\n",
    "\n",
    "scaler = StandardScaler()\n",
    "\n",
    "X_train_scaled = scaler.fit_transform(X_train)\n",
    "\n",
    "X_test_scaled = scaler.transform(X_test)\n"
   ]
  },
  {
   "cell_type": "code",
   "execution_count": 12,
   "id": "dcbf8f90",
   "metadata": {},
   "outputs": [
    {
     "data": {
      "text/plain": [
       "['scaling/scaler.pkl']"
      ]
     },
     "execution_count": 12,
     "metadata": {},
     "output_type": "execute_result"
    }
   ],
   "source": [
    "output_directory = 'scaling/'\n",
    "os.makedirs(output_directory, exist_ok=True)\n",
    "scaler_filename = os.path.join(output_directory, 'scaler.pkl')\n",
    "dump(scaler, scaler_filename)"
   ]
  },
  {
   "cell_type": "markdown",
   "id": "89795746",
   "metadata": {},
   "source": [
    "### XGBOOST"
   ]
  },
  {
   "cell_type": "code",
   "execution_count": 13,
   "id": "c316ed33",
   "metadata": {},
   "outputs": [
    {
     "data": {
      "text/plain": [
       "0.9997872993620028"
      ]
     },
     "execution_count": 13,
     "metadata": {},
     "output_type": "execute_result"
    }
   ],
   "source": [
    "XGB = XGBClassifier()\n",
    "XGB.fit(X_train, y_train)\n",
    "XGB.score(X_test,y_test)"
   ]
  },
  {
   "cell_type": "code",
   "execution_count": 14,
   "id": "8eada837",
   "metadata": {},
   "outputs": [],
   "source": [
    "with open('models/xgb_model.pkl', 'wb') as file:\n",
    "    pickle.dump(XGB, file)"
   ]
  },
  {
   "cell_type": "markdown",
   "id": "6616fec5",
   "metadata": {},
   "source": [
    "### Logistic regression"
   ]
  },
  {
   "cell_type": "code",
   "execution_count": 15,
   "id": "c3977d80",
   "metadata": {},
   "outputs": [
    {
     "data": {
      "text/plain": [
       "0.998553006989783"
      ]
     },
     "execution_count": 15,
     "metadata": {},
     "output_type": "execute_result"
    }
   ],
   "source": [
    "LR = LogisticRegression()\n",
    "LR.fit(X_train,y_train)\n",
    "LR.score(X_train,y_train)\n",
    "LR.score(X_test,y_test)"
   ]
  },
  {
   "cell_type": "code",
   "execution_count": 16,
   "id": "0589dc12",
   "metadata": {},
   "outputs": [],
   "source": [
    "with open('models/logistic_regression_model.pkl', 'wb') as file:\n",
    "    pickle.dump(LR, file)"
   ]
  },
  {
   "cell_type": "code",
   "execution_count": 17,
   "id": "fc5f4112",
   "metadata": {},
   "outputs": [],
   "source": [
    "y_pred = XGB.predict(X)"
   ]
  },
  {
   "cell_type": "markdown",
   "id": "3bc466d6",
   "metadata": {},
   "source": [
    "### SVC"
   ]
  },
  {
   "cell_type": "code",
   "execution_count": 47,
   "id": "07b4ab08",
   "metadata": {},
   "outputs": [
    {
     "name": "stdout",
     "output_type": "stream",
     "text": [
      "Support Vector Classifier:\n",
      "Training Accuracy: 0.9347740075277282\n"
     ]
    }
   ],
   "source": [
    "sample_size = 300000\n",
    "num_rows, num_cols = X_train.shape\n",
    "if sample_size > num_rows:\n",
    "    sample_size = num_rows\n",
    "\n",
    "sample_indices = np.random.choice(num_rows, sample_size, replace=False)\n",
    "X_train_sampled = X_train.iloc[sample_indices]  # Select rows by indices\n",
    "y_train_sampled = y_train.iloc[sample_indices]\n",
    "\n",
    "# Define SVC with optimized parameters\n",
    "svc_model = SVC(kernel='rbf', probability=True)\n",
    "\n",
    "# Train the SVC model\n",
    "svc_model.fit(X_train_sampled, y_train_sampled)\n",
    "\n",
    "# Evaluate the model\n",
    "train_preds = svc_model.predict_proba(X_train_sampled)[:, 1]\n",
    "print('Support Vector Classifier:')\n",
    "print('Training Accuracy:', ras(y_train_sampled, train_preds))\n",
    "\n",
    "\n",
    "with open('models/svc_model.pkl', 'wb') as file:\n",
    "    pickle.dump(svc_model, file)"
   ]
  },
  {
   "cell_type": "markdown",
   "id": "d2d08994",
   "metadata": {},
   "source": [
    "### confusion matrix"
   ]
  },
  {
   "cell_type": "code",
   "execution_count": 41,
   "id": "86e7896c",
   "metadata": {},
   "outputs": [
    {
     "data": {
      "image/png": "[encoded data removed]",
      "text/plain": [
       "<Figure size 800x600 with 1 Axes>"
      ]
     },
     "metadata": {},
     "output_type": "display_data"
    }
   ],
   "source": [
    "cm = confusion_matrix(y, y_pred)\n",
    "plt.figure(figsize=(8, 6))\n",
    "sns.heatmap(cm, annot=True, fmt=\"d\", cmap=\"Blues\", cbar=False)\n",
    "plt.xlabel('Predicted Labels')\n",
    "plt.ylabel('True Labels')\n",
    "plt.title('Confusion Matrix')\n",
    "plt.show()"
   ]
  },
  {
   "cell_type": "code",
   "execution_count": null,
   "id": "d8d789ee",
   "metadata": {},
   "outputs": [],
   "source": []
  }
 ],
 "metadata": {
  "kernelspec": {
   "display_name": "Python 3 (ipykernel)",
   "language": "python",
   "name": "python3"
  },
  "language_info": {
   "codemirror_mode": {
    "name": "ipython",
    "version": 3
   },
   "file_extension": ".py",
   "mimetype": "text/x-python",
   "name": "python",
   "nbconvert_exporter": "python",
   "pygments_lexer": "ipython3",
   "version": "3.11.4"
  }
 },
 "nbformat": 4,
 "nbformat_minor": 5
}
